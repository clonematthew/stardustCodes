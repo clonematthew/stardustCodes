{
 "cells": [
  {
   "cell_type": "code",
   "execution_count": 11,
   "metadata": {},
   "outputs": [],
   "source": [
    "# Library Imports\n",
    "import numpy as np\n",
    "import matplotlib.pyplot as plt\n",
    "import matplotlib\n",
    "from scipy.optimize import curve_fit \n",
    "from tqdm import tqdm\n",
    "from numba import jit, prange\n",
    "import pandas as pd\n",
    "\n",
    "from aRead import readAREPO, readSinks\n",
    "import constants as c\n",
    "matplotlib.rcParams.update({'figure.dpi': 150})"
   ]
  },
  {
   "cell_type": "code",
   "execution_count": 2,
   "metadata": {},
   "outputs": [],
   "source": [
    "# Open the snapshot\n",
    "data = readAREPO(\"/scratch/c.c1922522/bigClouds/UV1000r2/cloudUV1000_080.hdf5\", 1, tracers=True)\n",
    "dataS = readSinks(1, \"/scratch/c.c1922522/bigClouds/UV1000r2/sink_snap_080\")"
   ]
  },
  {
   "cell_type": "code",
   "execution_count": 3,
   "metadata": {},
   "outputs": [],
   "source": [
    "# Define class to hold sink data\n",
    "class sink():\n",
    "    pass\n",
    "\n",
    "# Array to store the sink classes\n",
    "sData = np.ones(data.nSinks, dtype=object)\n",
    "\n",
    "# Loop through all sinks in the simulations\n",
    "for i in range(data.nSinks):\n",
    "    # Initialise sink class\n",
    "    s = sink()\n",
    "    \n",
    "    # Get some attributes of the sink\n",
    "    s.ID = data.sinkID[i]\n",
    "    s.mass = data.sinkMass[i]\n",
    "    s.formTime = dataS.formationTime[i]\n",
    "    \n",
    "    s.x = data.sinkX[i]\n",
    "    s.y = data.sinkY[i]\n",
    "    s.z = data.sinkZ[i]\n",
    "    \n",
    "    # Get the tracers that are in this sink\n",
    "    s.tracers = data.tracerIDs[np.where(data.tracerParentIDs == s.ID)]\n",
    "    \n",
    "    # Assign to the array\n",
    "    sData[i] = s"
   ]
  },
  {
   "cell_type": "code",
   "execution_count": 4,
   "metadata": {},
   "outputs": [
    {
     "name": "stdout",
     "output_type": "stream",
     "text": [
      "(array([297]),)\n",
      "10.47210693359375\n"
     ]
    }
   ],
   "source": [
    "sinkMasses = np.zeros_like(sData)\n",
    "for i in range(len(sData)):\n",
    "    sinkMasses[i] = sData[i].mass\n",
    "    \n",
    "print(np.where(sinkMasses == np.max(sinkMasses)))\n",
    "print(sData[297].formTime)"
   ]
  },
  {
   "cell_type": "code",
   "execution_count": 5,
   "metadata": {},
   "outputs": [],
   "source": [
    "# Open the snapshot at the onset of sink formation\n",
    "data = readAREPO(\"/scratch/c.c1922522/bigClouds/UV1000r2/cloudUV1000_052.hdf5\", 1, tracers=True)"
   ]
  },
  {
   "cell_type": "code",
   "execution_count": 6,
   "metadata": {},
   "outputs": [],
   "source": [
    "@jit(nopython=True)\n",
    "def findTracerParents(sinkTracerIDs, tracerIDs, tracerParentIDs, particleIDs):\n",
    "    # Array to store parent particle IDs\n",
    "    parentIDs = np.zeros_like(sinkTracerIDs)\n",
    "    parentLocation = np.zeros_like(sinkTracerIDs)\n",
    "    \n",
    "    # Loop through all the tracers we want to locate\n",
    "    for i in prange(len(parentIDs)):\n",
    "        # Loop through all the tracers \n",
    "        for j in range(len(tracerIDs)):\n",
    "            if tracerIDs[j] == sinkTracerIDs[i]:\n",
    "                parentIDs[i] = tracerParentIDs[j]\n",
    "                break\n",
    "            \n",
    "        for j in range(len(particleIDs)):\n",
    "            if particleIDs[j] == parentIDs[i]:\n",
    "                parentLocation[i] = j\n",
    "                break\n",
    "            \n",
    "    return parentIDs, parentLocation"
   ]
  },
  {
   "cell_type": "code",
   "execution_count": 8,
   "metadata": {},
   "outputs": [
    {
     "name": "stderr",
     "output_type": "stream",
     "text": [
      "100%|██████████| 1504/1504 [06:30<00:00,  3.85it/s]\n"
     ]
    }
   ],
   "source": [
    "#for i in tqdm(range(len(sData))):\n",
    "for i in tqdm(range(len(sData))):\n",
    "    _, pLoc = findTracerParents(sData[i].tracers, data.tracerIDs, data.tracerParentIDs, data.ids)\n",
    "    \n",
    "    dSink = np.sqrt((sData[i].x - data.x[pLoc])**2 + (sData[i].y - data.y[pLoc])**2 + (sData[i].z - data.z[pLoc]))\n",
    "    sData[i].dists = dSink\n",
    "    \n",
    "    sData[i].distMass = dSink * data.mass[pLoc]"
   ]
  },
  {
   "cell_type": "code",
   "execution_count": 9,
   "metadata": {},
   "outputs": [],
   "source": [
    "# Find the masses of each of the sinks we have\n",
    "sMasses = np.zeros_like(sData)\n",
    "\n",
    "for i in range(len(sData)):\n",
    "    sMasses[i] = sData[i].mass\n",
    "\n",
    "# Create bins of mass\n",
    "massBins = 10**np.linspace(np.log10(np.min(sMasses)), np.log10(np.max(sMasses)), 20)\n",
    "\n",
    "# Find the distances in each mass bin\n",
    "distances = []\n",
    "for i in range(len(massBins)-1):\n",
    "    inBin = np.where((sMasses > massBins[i]) & (sMasses < massBins[i+1]))\n",
    "    sinks = sData[inBin]\n",
    "    \n",
    "    # Gather all the distances into one array\n",
    "    allDists = []\n",
    "    for j in range(len(sinks)):\n",
    "        dists = sinks[j].distMass.tolist()\n",
    "        for dist in dists:\n",
    "            allDists.append(dist)\n",
    "        \n",
    "    # Add to the total distances list for the bin\n",
    "    distances.append(allDists)"
   ]
  },
  {
   "cell_type": "code",
   "execution_count": 12,
   "metadata": {},
   "outputs": [
    {
     "data": {
      "text/plain": [
       "Text(0, 0.5, 'Distance of Tracer to Sink at Formation')"
      ]
     },
     "execution_count": 12,
     "metadata": {},
     "output_type": "execute_result"
    },
    {
     "data": {
      "image/png": "[encoded data removed]",
      "text/plain": [
       "<Figure size 900x600 with 1 Axes>"
      ]
     },
     "metadata": {
      "needs_background": "light"
     },
     "output_type": "display_data"
    }
   ],
   "source": [
    "h = plt.boxplot(distances, positions=massBins[1:], widths=massBins[1:]/8, showfliers=False, whis=(5,95))\n",
    "plt.yscale(\"log\")\n",
    "plt.xscale(\"log\")\n",
    "plt.xlabel(\"Sink Mass\")\n",
    "plt.ylabel(\"Distance of Tracer to Sink at Formation\")"
   ]
  },
  {
   "cell_type": "code",
   "execution_count": 39,
   "metadata": {},
   "outputs": [
    {
     "ename": "AttributeError",
     "evalue": "'sink' object has no attribute 'dists'",
     "output_type": "error",
     "traceback": [
      "\u001b[0;31m---------------------------------------------------------------------------\u001b[0m",
      "\u001b[0;31mAttributeError\u001b[0m                            Traceback (most recent call last)",
      "\u001b[0;32m/tmp/ipykernel_13222/1761333581.py\u001b[0m in \u001b[0;36m<module>\u001b[0;34m\u001b[0m\n\u001b[1;32m      4\u001b[0m \u001b[0;32mfor\u001b[0m \u001b[0mi\u001b[0m \u001b[0;32min\u001b[0m \u001b[0mrange\u001b[0m\u001b[0;34m(\u001b[0m\u001b[0mlen\u001b[0m\u001b[0;34m(\u001b[0m\u001b[0msData\u001b[0m\u001b[0;34m)\u001b[0m\u001b[0;34m)\u001b[0m\u001b[0;34m:\u001b[0m\u001b[0;34m\u001b[0m\u001b[0;34m\u001b[0m\u001b[0m\n\u001b[1;32m      5\u001b[0m     \u001b[0msMasses\u001b[0m\u001b[0;34m[\u001b[0m\u001b[0mi\u001b[0m\u001b[0;34m]\u001b[0m \u001b[0;34m=\u001b[0m \u001b[0msData\u001b[0m\u001b[0;34m[\u001b[0m\u001b[0mi\u001b[0m\u001b[0;34m]\u001b[0m\u001b[0;34m.\u001b[0m\u001b[0mmass\u001b[0m\u001b[0;34m\u001b[0m\u001b[0;34m\u001b[0m\u001b[0m\n\u001b[0;32m----> 6\u001b[0;31m     \u001b[0msDists\u001b[0m\u001b[0;34m[\u001b[0m\u001b[0mi\u001b[0m\u001b[0;34m]\u001b[0m \u001b[0;34m=\u001b[0m \u001b[0mnp\u001b[0m\u001b[0;34m.\u001b[0m\u001b[0mmedian\u001b[0m\u001b[0;34m(\u001b[0m\u001b[0msData\u001b[0m\u001b[0;34m[\u001b[0m\u001b[0mi\u001b[0m\u001b[0;34m]\u001b[0m\u001b[0;34m.\u001b[0m\u001b[0mdists\u001b[0m\u001b[0;34m)\u001b[0m\u001b[0;34m\u001b[0m\u001b[0;34m\u001b[0m\u001b[0m\n\u001b[0m\u001b[1;32m      7\u001b[0m \u001b[0;34m\u001b[0m\u001b[0m\n\u001b[1;32m      8\u001b[0m \u001b[0mplt\u001b[0m\u001b[0;34m.\u001b[0m\u001b[0mplot\u001b[0m\u001b[0;34m(\u001b[0m\u001b[0msMasses\u001b[0m\u001b[0;34m,\u001b[0m \u001b[0msDists\u001b[0m\u001b[0;34m,\u001b[0m \u001b[0;34m\"bo\"\u001b[0m\u001b[0;34m,\u001b[0m \u001b[0mmarkersize\u001b[0m\u001b[0;34m=\u001b[0m\u001b[0;36m1\u001b[0m\u001b[0;34m)\u001b[0m\u001b[0;34m\u001b[0m\u001b[0;34m\u001b[0m\u001b[0m\n",
      "\u001b[0;31mAttributeError\u001b[0m: 'sink' object has no attribute 'dists'"
     ]
    }
   ],
   "source": [
    "sMasses = np.zeros_like(sData)\n",
    "sDists = np.zeros_like(sData)\n",
    "\n",
    "for i in range(len(sData)):\n",
    "    sMasses[i] = sData[i].mass\n",
    "    sDists[i] = np.median(sData[i].dists)\n",
    "    \n",
    "plt.plot(sMasses, sDists, \"bo\", markersize=1)\n",
    "plt.xscale(\"log\")\n",
    "plt.yscale(\"log\")\n",
    "plt.xlabel(\"Sink Mass\")\n",
    "plt.ylabel(\"Mean Distance of Accreted Particles\")"
   ]
  },
  {
   "cell_type": "code",
   "execution_count": 42,
   "metadata": {},
   "outputs": [
    {
     "ename": "AttributeError",
     "evalue": "'sink' object has no attribute 'dists'",
     "output_type": "error",
     "traceback": [
      "\u001b[0;31m---------------------------------------------------------------------------\u001b[0m",
      "\u001b[0;31mAttributeError\u001b[0m                            Traceback (most recent call last)",
      "\u001b[0;32m/tmp/ipykernel_13222/3182823711.py\u001b[0m in \u001b[0;36m<module>\u001b[0;34m\u001b[0m\n\u001b[0;32m----> 1\u001b[0;31m \u001b[0mh\u001b[0m \u001b[0;34m=\u001b[0m \u001b[0mplt\u001b[0m\u001b[0;34m.\u001b[0m\u001b[0mhist\u001b[0m\u001b[0;34m(\u001b[0m\u001b[0mnp\u001b[0m\u001b[0;34m.\u001b[0m\u001b[0mlog10\u001b[0m\u001b[0;34m(\u001b[0m\u001b[0msData\u001b[0m\u001b[0;34m[\u001b[0m\u001b[0;36m298\u001b[0m\u001b[0;34m]\u001b[0m\u001b[0;34m.\u001b[0m\u001b[0mdists\u001b[0m\u001b[0;34m/\u001b[0m\u001b[0;36m1.5e13\u001b[0m\u001b[0;34m)\u001b[0m\u001b[0;34m)\u001b[0m\u001b[0;34m\u001b[0m\u001b[0;34m\u001b[0m\u001b[0m\n\u001b[0m\u001b[1;32m      2\u001b[0m \u001b[0mplt\u001b[0m\u001b[0;34m.\u001b[0m\u001b[0mxlabel\u001b[0m\u001b[0;34m(\u001b[0m\u001b[0;34m\"Distance of Tracer to Sink when it formed (log AU)\"\u001b[0m\u001b[0;34m)\u001b[0m\u001b[0;34m\u001b[0m\u001b[0;34m\u001b[0m\u001b[0m\n",
      "\u001b[0;31mAttributeError\u001b[0m: 'sink' object has no attribute 'dists'"
     ]
    }
   ],
   "source": [
    "h = plt.hist(np.log10(sData[298].dists/1.5e13))\n",
    "plt.xlabel(\"Distance of Tracer to Sink when it formed (log AU)\")"
   ]
  }
 ],
 "metadata": {
  "kernelspec": {
   "display_name": "base",
   "language": "python",
   "name": "python3"
  },
  "language_info": {
   "codemirror_mode": {
    "name": "ipython",
    "version": 3
   },
   "file_extension": ".py",
   "mimetype": "text/x-python",
   "name": "python",
   "nbconvert_exporter": "python",
   "pygments_lexer": "ipython3",
   "version": "3.9.7"
  }
 },
 "nbformat": 4,
 "nbformat_minor": 2
}
